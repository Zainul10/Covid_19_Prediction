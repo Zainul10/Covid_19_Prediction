{
 "cells": [
  {
   "cell_type": "markdown",
   "id": "b18b4f52",
   "metadata": {},
   "source": [
    "**Coronavirus disease (COVID-19) is an infectious disease caused by the SARS-CoV-2 virus.**\n",
    "\n",
    "**Most people infected with the virus will experience mild to moderate respiratory illness and recover without requiring special treatment. However, some will become seriously ill and require medical attention. Older people and those with underlying medical conditions like cardiovascular disease, diabetes, chronic respiratory disease, or cancer are more likely to develop serious illness. Anyone can get sick with COVID-19 and become seriously ill or die at any age.**"
   ]
  },
  {
   "cell_type": "markdown",
   "id": "9517b04d",
   "metadata": {},
   "source": [
    "- **Thus, accurately predicting COVID-19 and understanding the symptoms are very important.**\n",
    "- **ML algorithms could be good for predicting the COVID-19**"
   ]
  },
  {
   "cell_type": "markdown",
   "id": "8201dd9f",
   "metadata": {},
   "source": [
    "### Aim\n",
    "\n",
    "**(1)  to identify patterns in the data and important features that may impact a ML model.**\n",
    "\n",
    "**(2)  Using machine learning models predict covid-19**"
   ]
  },
  {
   "cell_type": "code",
   "execution_count": 8,
   "id": "c92d586d",
   "metadata": {},
   "outputs": [],
   "source": [
    "# Importing Libraries\n",
    "import numpy as np\n",
    "import pandas as pd\n",
    "import matplotlib.pyplot as plt\n",
    "import seaborn as sns\n",
    "import plotly.express as px\n",
    "import missingno as msno\n",
    "from sklearn.impute import SimpleImputer\n",
    "from sklearn.preprocessing import LabelEncoder \n",
    "from imblearn.over_sampling import RandomOverSampler\n",
    "from imblearn.over_sampling import SMOTE\n",
    "from sklearn.model_selection import train_test_split\n",
    "from sklearn.tree import DecisionTreeClassifier \n",
    "from sklearn import metrics \n",
    "from sklearn import tree"
   ]
  },
  {
   "cell_type": "code",
   "execution_count": 9,
   "id": "537c24ea",
   "metadata": {},
   "outputs": [],
   "source": [
    "import warnings\n",
    "warnings.filterwarnings('ignore')"
   ]
  },
  {
   "cell_type": "code",
   "execution_count": 12,
   "id": "efbb1319",
   "metadata": {},
   "outputs": [],
   "source": [
    "# Importing dataset\n",
    "covid_raw = pd.read_csv(\"corona_tested_006.csv\")"
   ]
  },
  {
   "cell_type": "code",
   "execution_count": 13,
   "id": "dcf7be83",
   "metadata": {},
   "outputs": [],
   "source": [
    "# Making copy of dataset\n",
    "covid = covid_raw.copy()"
   ]
  },
  {
   "cell_type": "code",
   "execution_count": 14,
   "id": "7a686299",
   "metadata": {},
   "outputs": [
    {
     "data": {
      "text/html": [
       "<div>\n",
       "<style scoped>\n",
       "    .dataframe tbody tr th:only-of-type {\n",
       "        vertical-align: middle;\n",
       "    }\n",
       "\n",
       "    .dataframe tbody tr th {\n",
       "        vertical-align: top;\n",
       "    }\n",
       "\n",
       "    .dataframe thead th {\n",
       "        text-align: right;\n",
       "    }\n",
       "</style>\n",
       "<table border=\"1\" class=\"dataframe\">\n",
       "  <thead>\n",
       "    <tr style=\"text-align: right;\">\n",
       "      <th></th>\n",
       "      <th>Ind_ID</th>\n",
       "      <th>Test_date</th>\n",
       "      <th>Cough_symptoms</th>\n",
       "      <th>Fever</th>\n",
       "      <th>Sore_throat</th>\n",
       "      <th>Shortness_of_breath</th>\n",
       "      <th>Headache</th>\n",
       "      <th>Corona</th>\n",
       "      <th>Age_60_above</th>\n",
       "      <th>Sex</th>\n",
       "      <th>Known_contact</th>\n",
       "    </tr>\n",
       "  </thead>\n",
       "  <tbody>\n",
       "    <tr>\n",
       "      <th>0</th>\n",
       "      <td>1</td>\n",
       "      <td>11-03-2020</td>\n",
       "      <td>TRUE</td>\n",
       "      <td>FALSE</td>\n",
       "      <td>TRUE</td>\n",
       "      <td>FALSE</td>\n",
       "      <td>FALSE</td>\n",
       "      <td>negative</td>\n",
       "      <td>None</td>\n",
       "      <td>None</td>\n",
       "      <td>Abroad</td>\n",
       "    </tr>\n",
       "    <tr>\n",
       "      <th>1</th>\n",
       "      <td>2</td>\n",
       "      <td>11-03-2020</td>\n",
       "      <td>FALSE</td>\n",
       "      <td>TRUE</td>\n",
       "      <td>FALSE</td>\n",
       "      <td>FALSE</td>\n",
       "      <td>FALSE</td>\n",
       "      <td>positive</td>\n",
       "      <td>None</td>\n",
       "      <td>None</td>\n",
       "      <td>Abroad</td>\n",
       "    </tr>\n",
       "    <tr>\n",
       "      <th>2</th>\n",
       "      <td>3</td>\n",
       "      <td>11-03-2020</td>\n",
       "      <td>FALSE</td>\n",
       "      <td>TRUE</td>\n",
       "      <td>FALSE</td>\n",
       "      <td>FALSE</td>\n",
       "      <td>FALSE</td>\n",
       "      <td>positive</td>\n",
       "      <td>None</td>\n",
       "      <td>None</td>\n",
       "      <td>Abroad</td>\n",
       "    </tr>\n",
       "    <tr>\n",
       "      <th>3</th>\n",
       "      <td>4</td>\n",
       "      <td>11-03-2020</td>\n",
       "      <td>TRUE</td>\n",
       "      <td>FALSE</td>\n",
       "      <td>FALSE</td>\n",
       "      <td>FALSE</td>\n",
       "      <td>FALSE</td>\n",
       "      <td>negative</td>\n",
       "      <td>None</td>\n",
       "      <td>None</td>\n",
       "      <td>Abroad</td>\n",
       "    </tr>\n",
       "    <tr>\n",
       "      <th>4</th>\n",
       "      <td>5</td>\n",
       "      <td>11-03-2020</td>\n",
       "      <td>TRUE</td>\n",
       "      <td>FALSE</td>\n",
       "      <td>FALSE</td>\n",
       "      <td>FALSE</td>\n",
       "      <td>FALSE</td>\n",
       "      <td>negative</td>\n",
       "      <td>None</td>\n",
       "      <td>None</td>\n",
       "      <td>Contact with confirmed</td>\n",
       "    </tr>\n",
       "  </tbody>\n",
       "</table>\n",
       "</div>"
      ],
      "text/plain": [
       "   Ind_ID   Test_date Cough_symptoms  Fever Sore_throat Shortness_of_breath  \\\n",
       "0       1  11-03-2020           TRUE  FALSE        TRUE               FALSE   \n",
       "1       2  11-03-2020          FALSE   TRUE       FALSE               FALSE   \n",
       "2       3  11-03-2020          FALSE   TRUE       FALSE               FALSE   \n",
       "3       4  11-03-2020           TRUE  FALSE       FALSE               FALSE   \n",
       "4       5  11-03-2020           TRUE  FALSE       FALSE               FALSE   \n",
       "\n",
       "  Headache    Corona Age_60_above   Sex           Known_contact  \n",
       "0    FALSE  negative         None  None                  Abroad  \n",
       "1    FALSE  positive         None  None                  Abroad  \n",
       "2    FALSE  positive         None  None                  Abroad  \n",
       "3    FALSE  negative         None  None                  Abroad  \n",
       "4    FALSE  negative         None  None  Contact with confirmed  "
      ]
     },
     "execution_count": 14,
     "metadata": {},
     "output_type": "execute_result"
    }
   ],
   "source": [
    "covid.head()"
   ]
  },
  {
   "cell_type": "code",
   "execution_count": 15,
   "id": "9a40bdf0",
   "metadata": {},
   "outputs": [
    {
     "data": {
      "text/html": [
       "<div>\n",
       "<style scoped>\n",
       "    .dataframe tbody tr th:only-of-type {\n",
       "        vertical-align: middle;\n",
       "    }\n",
       "\n",
       "    .dataframe tbody tr th {\n",
       "        vertical-align: top;\n",
       "    }\n",
       "\n",
       "    .dataframe thead th {\n",
       "        text-align: right;\n",
       "    }\n",
       "</style>\n",
       "<table border=\"1\" class=\"dataframe\">\n",
       "  <thead>\n",
       "    <tr style=\"text-align: right;\">\n",
       "      <th></th>\n",
       "      <th>Ind_ID</th>\n",
       "      <th>Test_date</th>\n",
       "      <th>Cough_symptoms</th>\n",
       "      <th>Fever</th>\n",
       "      <th>Sore_throat</th>\n",
       "      <th>Shortness_of_breath</th>\n",
       "      <th>Headache</th>\n",
       "      <th>Corona</th>\n",
       "      <th>Age_60_above</th>\n",
       "      <th>Sex</th>\n",
       "      <th>Known_contact</th>\n",
       "    </tr>\n",
       "  </thead>\n",
       "  <tbody>\n",
       "    <tr>\n",
       "      <th>278843</th>\n",
       "      <td>278844</td>\n",
       "      <td>30-04-2020</td>\n",
       "      <td>False</td>\n",
       "      <td>False</td>\n",
       "      <td>False</td>\n",
       "      <td>False</td>\n",
       "      <td>False</td>\n",
       "      <td>positive</td>\n",
       "      <td>None</td>\n",
       "      <td>male</td>\n",
       "      <td>Other</td>\n",
       "    </tr>\n",
       "    <tr>\n",
       "      <th>278844</th>\n",
       "      <td>278845</td>\n",
       "      <td>30-04-2020</td>\n",
       "      <td>False</td>\n",
       "      <td>False</td>\n",
       "      <td>False</td>\n",
       "      <td>False</td>\n",
       "      <td>False</td>\n",
       "      <td>negative</td>\n",
       "      <td>None</td>\n",
       "      <td>female</td>\n",
       "      <td>Other</td>\n",
       "    </tr>\n",
       "    <tr>\n",
       "      <th>278845</th>\n",
       "      <td>278846</td>\n",
       "      <td>30-04-2020</td>\n",
       "      <td>False</td>\n",
       "      <td>False</td>\n",
       "      <td>False</td>\n",
       "      <td>False</td>\n",
       "      <td>False</td>\n",
       "      <td>negative</td>\n",
       "      <td>None</td>\n",
       "      <td>male</td>\n",
       "      <td>Other</td>\n",
       "    </tr>\n",
       "    <tr>\n",
       "      <th>278846</th>\n",
       "      <td>278847</td>\n",
       "      <td>30-04-2020</td>\n",
       "      <td>False</td>\n",
       "      <td>False</td>\n",
       "      <td>False</td>\n",
       "      <td>False</td>\n",
       "      <td>False</td>\n",
       "      <td>negative</td>\n",
       "      <td>None</td>\n",
       "      <td>male</td>\n",
       "      <td>Other</td>\n",
       "    </tr>\n",
       "    <tr>\n",
       "      <th>278847</th>\n",
       "      <td>278848</td>\n",
       "      <td>30-04-2020</td>\n",
       "      <td>False</td>\n",
       "      <td>False</td>\n",
       "      <td>False</td>\n",
       "      <td>False</td>\n",
       "      <td>False</td>\n",
       "      <td>negative</td>\n",
       "      <td>None</td>\n",
       "      <td>female</td>\n",
       "      <td>Other</td>\n",
       "    </tr>\n",
       "  </tbody>\n",
       "</table>\n",
       "</div>"
      ],
      "text/plain": [
       "        Ind_ID   Test_date Cough_symptoms  Fever Sore_throat  \\\n",
       "278843  278844  30-04-2020          False  False       False   \n",
       "278844  278845  30-04-2020          False  False       False   \n",
       "278845  278846  30-04-2020          False  False       False   \n",
       "278846  278847  30-04-2020          False  False       False   \n",
       "278847  278848  30-04-2020          False  False       False   \n",
       "\n",
       "       Shortness_of_breath Headache    Corona Age_60_above     Sex  \\\n",
       "278843               False    False  positive         None    male   \n",
       "278844               False    False  negative         None  female   \n",
       "278845               False    False  negative         None    male   \n",
       "278846               False    False  negative         None    male   \n",
       "278847               False    False  negative         None  female   \n",
       "\n",
       "       Known_contact  \n",
       "278843         Other  \n",
       "278844         Other  \n",
       "278845         Other  \n",
       "278846         Other  \n",
       "278847         Other  "
      ]
     },
     "execution_count": 15,
     "metadata": {},
     "output_type": "execute_result"
    }
   ],
   "source": [
    "covid.tail()"
   ]
  },
  {
   "cell_type": "markdown",
   "id": "47796fa9",
   "metadata": {},
   "source": [
    "**Except date all are categorical feature**\n",
    "- **Corona is our Outcome/ target variable**\n",
    "\n"
   ]
  },
  {
   "cell_type": "code",
   "execution_count": 16,
   "id": "17892924",
   "metadata": {},
   "outputs": [
    {
     "data": {
      "text/plain": [
       "(278848, 11)"
      ]
     },
     "execution_count": 16,
     "metadata": {},
     "output_type": "execute_result"
    }
   ],
   "source": [
    "covid.shape"
   ]
  },
  {
   "cell_type": "markdown",
   "id": "15030b5e",
   "metadata": {},
   "source": [
    "**Possible symptoms include:**\n",
    "\n",
    "- Fever or chills\n",
    "- Cough\n",
    "- Shortness of breath or difficulty breathing\n",
    "- Fatigue\n",
    "- Muscle or body aches\n",
    "- Headache\n",
    "- New loss of taste or smell\n",
    "- Sore throat\n",
    "- Congestion or runny nose\n",
    "- Nausea or vomiting\n",
    "- Diarrhea"
   ]
  },
  {
   "cell_type": "code",
   "execution_count": 17,
   "id": "f85b42f7",
   "metadata": {},
   "outputs": [
    {
     "name": "stdout",
     "output_type": "stream",
     "text": [
      "<class 'pandas.core.frame.DataFrame'>\n",
      "RangeIndex: 278848 entries, 0 to 278847\n",
      "Data columns (total 11 columns):\n",
      " #   Column               Non-Null Count   Dtype \n",
      "---  ------               --------------   ----- \n",
      " 0   Ind_ID               278848 non-null  int64 \n",
      " 1   Test_date            278848 non-null  object\n",
      " 2   Cough_symptoms       278848 non-null  object\n",
      " 3   Fever                278848 non-null  object\n",
      " 4   Sore_throat          278848 non-null  object\n",
      " 5   Shortness_of_breath  278848 non-null  object\n",
      " 6   Headache             278848 non-null  object\n",
      " 7   Corona               278848 non-null  object\n",
      " 8   Age_60_above         278848 non-null  object\n",
      " 9   Sex                  278848 non-null  object\n",
      " 10  Known_contact        278848 non-null  object\n",
      "dtypes: int64(1), object(10)\n",
      "memory usage: 23.4+ MB\n"
     ]
    }
   ],
   "source": [
    "covid.info()"
   ]
  },
  {
   "cell_type": "markdown",
   "id": "531c4f57",
   "metadata": {},
   "source": [
    "**It is showing that there are no any missing values**"
   ]
  },
  {
   "cell_type": "code",
   "execution_count": 18,
   "id": "1648b48b",
   "metadata": {},
   "outputs": [
    {
     "data": {
      "text/plain": [
       "Ind_ID                 0\n",
       "Test_date              0\n",
       "Cough_symptoms         0\n",
       "Fever                  0\n",
       "Sore_throat            0\n",
       "Shortness_of_breath    0\n",
       "Headache               0\n",
       "Corona                 0\n",
       "Age_60_above           0\n",
       "Sex                    0\n",
       "Known_contact          0\n",
       "dtype: int64"
      ]
     },
     "execution_count": 18,
     "metadata": {},
     "output_type": "execute_result"
    }
   ],
   "source": [
    "covid.isnull().sum()"
   ]
  },
  {
   "cell_type": "code",
   "execution_count": 19,
   "id": "ad1455ea",
   "metadata": {},
   "outputs": [
    {
     "data": {
      "text/plain": [
       "Ind_ID                 278848\n",
       "Test_date                  51\n",
       "Cough_symptoms              5\n",
       "Fever                       5\n",
       "Sore_throat                 5\n",
       "Shortness_of_breath         5\n",
       "Headache                    5\n",
       "Corona                      3\n",
       "Age_60_above                3\n",
       "Sex                         3\n",
       "Known_contact               3\n",
       "dtype: int64"
      ]
     },
     "execution_count": 19,
     "metadata": {},
     "output_type": "execute_result"
    }
   ],
   "source": [
    "covid.nunique()"
   ]
  },
  {
   "cell_type": "code",
   "execution_count": 20,
   "id": "987c0d51",
   "metadata": {},
   "outputs": [
    {
     "data": {
      "text/plain": [
       "Ind_ID                 278848\n",
       "Test_date                  51\n",
       "Cough_symptoms              5\n",
       "Fever                       5\n",
       "Sore_throat                 5\n",
       "Shortness_of_breath         5\n",
       "Headache                    5\n",
       "Corona                      3\n",
       "Age_60_above                3\n",
       "Sex                         3\n",
       "Known_contact               3\n",
       "dtype: int64"
      ]
     },
     "execution_count": 20,
     "metadata": {},
     "output_type": "execute_result"
    }
   ],
   "source": [
    "covid.nunique()"
   ]
  },
  {
   "cell_type": "code",
   "execution_count": 21,
   "id": "22365adc",
   "metadata": {},
   "outputs": [
    {
     "data": {
      "text/plain": [
       "array(['Abroad', 'Contact with confirmed', 'Other'], dtype=object)"
      ]
     },
     "execution_count": 21,
     "metadata": {},
     "output_type": "execute_result"
    }
   ],
   "source": [
    "covid['Known_contact'].unique()"
   ]
  },
  {
   "cell_type": "code",
   "execution_count": 22,
   "id": "d8647eb7",
   "metadata": {},
   "outputs": [
    {
     "data": {
      "text/plain": [
       "array(['FALSE', 'TRUE', 'None', False, True], dtype=object)"
      ]
     },
     "execution_count": 22,
     "metadata": {},
     "output_type": "execute_result"
    }
   ],
   "source": [
    "covid['Fever'].unique()"
   ]
  },
  {
   "cell_type": "code",
   "execution_count": 23,
   "id": "30107f73",
   "metadata": {},
   "outputs": [
    {
     "data": {
      "text/plain": [
       "array(['None', 'No', 'Yes'], dtype=object)"
      ]
     },
     "execution_count": 23,
     "metadata": {},
     "output_type": "execute_result"
    }
   ],
   "source": [
    "covid['Age_60_above'].unique()"
   ]
  },
  {
   "cell_type": "markdown",
   "id": "51be923d",
   "metadata": {},
   "source": [
    "**There are some missing values in the dataset which has inserted as None**"
   ]
  },
  {
   "cell_type": "code",
   "execution_count": 24,
   "id": "ca36f49c",
   "metadata": {},
   "outputs": [],
   "source": [
    "covid.replace(['TRUE','FALSE'],[True, False], inplace = True)"
   ]
  },
  {
   "cell_type": "code",
   "execution_count": 25,
   "id": "18027051",
   "metadata": {},
   "outputs": [],
   "source": [
    "covid['Cough_symptoms'].replace(['TRUE','FALSE'], [True, False], inplace = True)"
   ]
  },
  {
   "cell_type": "code",
   "execution_count": 26,
   "id": "d379af94",
   "metadata": {},
   "outputs": [
    {
     "name": "stdout",
     "output_type": "stream",
     "text": [
      "<class 'pandas.core.frame.DataFrame'>\n",
      "RangeIndex: 278848 entries, 0 to 278847\n",
      "Data columns (total 11 columns):\n",
      " #   Column               Non-Null Count   Dtype \n",
      "---  ------               --------------   ----- \n",
      " 0   Ind_ID               278848 non-null  int64 \n",
      " 1   Test_date            278848 non-null  object\n",
      " 2   Cough_symptoms       278848 non-null  object\n",
      " 3   Fever                278848 non-null  object\n",
      " 4   Sore_throat          278848 non-null  object\n",
      " 5   Shortness_of_breath  278848 non-null  object\n",
      " 6   Headache             278848 non-null  object\n",
      " 7   Corona               278848 non-null  object\n",
      " 8   Age_60_above         278848 non-null  object\n",
      " 9   Sex                  278848 non-null  object\n",
      " 10  Known_contact        278848 non-null  object\n",
      "dtypes: int64(1), object(10)\n",
      "memory usage: 23.4+ MB\n"
     ]
    }
   ],
   "source": [
    "covid.info()"
   ]
  },
  {
   "cell_type": "code",
   "execution_count": 27,
   "id": "bd9b99c1",
   "metadata": {},
   "outputs": [
    {
     "data": {
      "image/png": "[encoded data removed]",
      "text/plain": [
       "<Figure size 640x480 with 1 Axes>"
      ]
     },
     "metadata": {},
     "output_type": "display_data"
    }
   ],
   "source": [
    "sns.countplot(data = covid , x = 'Fever')\n",
    "plt.show()"
   ]
  },
  {
   "cell_type": "markdown",
   "id": "28b87880",
   "metadata": {},
   "source": [
    "**Count plot shows the data is imbalanced, we can see there are very less number of people who have suffered from fever**."
   ]
  },
  {
   "cell_type": "code",
   "execution_count": 28,
   "id": "1aedb6df",
   "metadata": {},
   "outputs": [
    {
     "data": {
      "text/plain": [
       "False    236368\n",
       "True      42228\n",
       "None        252\n",
       "Name: Cough_symptoms, dtype: int64"
      ]
     },
     "execution_count": 28,
     "metadata": {},
     "output_type": "execute_result"
    }
   ],
   "source": [
    "count = covid['Cough_symptoms'].value_counts()\n",
    "count"
   ]
  },
  {
   "cell_type": "code",
   "execution_count": 29,
   "id": "2ddeb39b",
   "metadata": {},
   "outputs": [
    {
     "data": {
      "text/plain": [
       "Ind_ID                 278848\n",
       "Test_date                  51\n",
       "Cough_symptoms              3\n",
       "Fever                       3\n",
       "Sore_throat                 3\n",
       "Shortness_of_breath         3\n",
       "Headache                    3\n",
       "Corona                      3\n",
       "Age_60_above                3\n",
       "Sex                         3\n",
       "Known_contact               3\n",
       "dtype: int64"
      ]
     },
     "execution_count": 29,
     "metadata": {},
     "output_type": "execute_result"
    }
   ],
   "source": [
    "covid.nunique()"
   ]
  },
  {
   "cell_type": "code",
   "execution_count": 30,
   "id": "6ca45f51",
   "metadata": {},
   "outputs": [],
   "source": [
    "covid_1 = covid.replace(['None', 'other',], np.nan, regex = True)"
   ]
  },
  {
   "cell_type": "code",
   "execution_count": 31,
   "id": "5c1591a4",
   "metadata": {},
   "outputs": [
    {
     "data": {
      "text/html": [
       "<div>\n",
       "<style scoped>\n",
       "    .dataframe tbody tr th:only-of-type {\n",
       "        vertical-align: middle;\n",
       "    }\n",
       "\n",
       "    .dataframe tbody tr th {\n",
       "        vertical-align: top;\n",
       "    }\n",
       "\n",
       "    .dataframe thead th {\n",
       "        text-align: right;\n",
       "    }\n",
       "</style>\n",
       "<table border=\"1\" class=\"dataframe\">\n",
       "  <thead>\n",
       "    <tr style=\"text-align: right;\">\n",
       "      <th></th>\n",
       "      <th>Ind_ID</th>\n",
       "      <th>Test_date</th>\n",
       "      <th>Cough_symptoms</th>\n",
       "      <th>Fever</th>\n",
       "      <th>Sore_throat</th>\n",
       "      <th>Shortness_of_breath</th>\n",
       "      <th>Headache</th>\n",
       "      <th>Corona</th>\n",
       "      <th>Age_60_above</th>\n",
       "      <th>Sex</th>\n",
       "      <th>Known_contact</th>\n",
       "    </tr>\n",
       "  </thead>\n",
       "  <tbody>\n",
       "    <tr>\n",
       "      <th>0</th>\n",
       "      <td>1</td>\n",
       "      <td>11-03-2020</td>\n",
       "      <td>True</td>\n",
       "      <td>False</td>\n",
       "      <td>True</td>\n",
       "      <td>False</td>\n",
       "      <td>False</td>\n",
       "      <td>negative</td>\n",
       "      <td>NaN</td>\n",
       "      <td>NaN</td>\n",
       "      <td>Abroad</td>\n",
       "    </tr>\n",
       "    <tr>\n",
       "      <th>1</th>\n",
       "      <td>2</td>\n",
       "      <td>11-03-2020</td>\n",
       "      <td>False</td>\n",
       "      <td>True</td>\n",
       "      <td>False</td>\n",
       "      <td>False</td>\n",
       "      <td>False</td>\n",
       "      <td>positive</td>\n",
       "      <td>NaN</td>\n",
       "      <td>NaN</td>\n",
       "      <td>Abroad</td>\n",
       "    </tr>\n",
       "    <tr>\n",
       "      <th>2</th>\n",
       "      <td>3</td>\n",
       "      <td>11-03-2020</td>\n",
       "      <td>False</td>\n",
       "      <td>True</td>\n",
       "      <td>False</td>\n",
       "      <td>False</td>\n",
       "      <td>False</td>\n",
       "      <td>positive</td>\n",
       "      <td>NaN</td>\n",
       "      <td>NaN</td>\n",
       "      <td>Abroad</td>\n",
       "    </tr>\n",
       "    <tr>\n",
       "      <th>3</th>\n",
       "      <td>4</td>\n",
       "      <td>11-03-2020</td>\n",
       "      <td>True</td>\n",
       "      <td>False</td>\n",
       "      <td>False</td>\n",
       "      <td>False</td>\n",
       "      <td>False</td>\n",
       "      <td>negative</td>\n",
       "      <td>NaN</td>\n",
       "      <td>NaN</td>\n",
       "      <td>Abroad</td>\n",
       "    </tr>\n",
       "    <tr>\n",
       "      <th>4</th>\n",
       "      <td>5</td>\n",
       "      <td>11-03-2020</td>\n",
       "      <td>True</td>\n",
       "      <td>False</td>\n",
       "      <td>False</td>\n",
       "      <td>False</td>\n",
       "      <td>False</td>\n",
       "      <td>negative</td>\n",
       "      <td>NaN</td>\n",
       "      <td>NaN</td>\n",
       "      <td>Contact with confirmed</td>\n",
       "    </tr>\n",
       "  </tbody>\n",
       "</table>\n",
       "</div>"
      ],
      "text/plain": [
       "   Ind_ID   Test_date Cough_symptoms  Fever Sore_throat Shortness_of_breath  \\\n",
       "0       1  11-03-2020           True  False        True               False   \n",
       "1       2  11-03-2020          False   True       False               False   \n",
       "2       3  11-03-2020          False   True       False               False   \n",
       "3       4  11-03-2020           True  False       False               False   \n",
       "4       5  11-03-2020           True  False       False               False   \n",
       "\n",
       "  Headache    Corona Age_60_above  Sex           Known_contact  \n",
       "0    False  negative          NaN  NaN                  Abroad  \n",
       "1    False  positive          NaN  NaN                  Abroad  \n",
       "2    False  positive          NaN  NaN                  Abroad  \n",
       "3    False  negative          NaN  NaN                  Abroad  \n",
       "4    False  negative          NaN  NaN  Contact with confirmed  "
      ]
     },
     "execution_count": 31,
     "metadata": {},
     "output_type": "execute_result"
    }
   ],
   "source": [
    "covid_1.head(5)"
   ]
  },
  {
   "cell_type": "code",
   "execution_count": 32,
   "id": "17b9b7f8",
   "metadata": {},
   "outputs": [
    {
     "data": {
      "text/plain": [
       "Ind_ID                      0\n",
       "Test_date                   0\n",
       "Cough_symptoms            252\n",
       "Fever                     252\n",
       "Sore_throat                 1\n",
       "Shortness_of_breath         1\n",
       "Headache                    1\n",
       "Corona                   3892\n",
       "Age_60_above           127320\n",
       "Sex                     19563\n",
       "Known_contact               0\n",
       "dtype: int64"
      ]
     },
     "execution_count": 32,
     "metadata": {},
     "output_type": "execute_result"
    }
   ],
   "source": [
    "covid_1.isnull().sum()"
   ]
  },
  {
   "cell_type": "code",
   "execution_count": 33,
   "id": "3c3955f7",
   "metadata": {},
   "outputs": [
    {
     "data": {
      "text/plain": [
       "Ind_ID                  0.000000\n",
       "Test_date               0.000000\n",
       "Cough_symptoms          0.090372\n",
       "Fever                   0.090372\n",
       "Sore_throat             0.000359\n",
       "Shortness_of_breath     0.000359\n",
       "Headache                0.000359\n",
       "Corona                  1.395742\n",
       "Age_60_above           45.659284\n",
       "Sex                     7.015650\n",
       "Known_contact           0.000000\n",
       "dtype: float64"
      ]
     },
     "execution_count": 33,
     "metadata": {},
     "output_type": "execute_result"
    }
   ],
   "source": [
    "covid_1.isnull().mean()*100"
   ]
  },
  {
   "cell_type": "code",
   "execution_count": 34,
   "id": "30e4fbb5",
   "metadata": {},
   "outputs": [
    {
     "data": {
      "text/plain": [
       "<AxesSubplot:>"
      ]
     },
     "execution_count": 34,
     "metadata": {},
     "output_type": "execute_result"
    },
    {
     "data": {
      "image/png": "[encoded data removed]",
      "text/plain": [
       "<Figure size 2500x1000 with 2 Axes>"
      ]
     },
     "metadata": {},
     "output_type": "display_data"
    }
   ],
   "source": [
    "msno.matrix(covid_1)"
   ]
  },
  {
   "cell_type": "markdown",
   "id": "cde99f94",
   "metadata": {},
   "source": [
    "**Age_60_above and sex has 45% and 7% has missing values respectively.**"
   ]
  },
  {
   "cell_type": "code",
   "execution_count": 35,
   "id": "a6f9b32a",
   "metadata": {},
   "outputs": [
    {
     "data": {
      "text/plain": [
       "Ind_ID                 278848\n",
       "Test_date                  51\n",
       "Cough_symptoms              2\n",
       "Fever                       2\n",
       "Sore_throat                 2\n",
       "Shortness_of_breath         2\n",
       "Headache                    2\n",
       "Corona                      2\n",
       "Age_60_above                2\n",
       "Sex                         2\n",
       "Known_contact               3\n",
       "dtype: int64"
      ]
     },
     "execution_count": 35,
     "metadata": {},
     "output_type": "execute_result"
    }
   ],
   "source": [
    "covid_1.nunique()"
   ]
  },
  {
   "cell_type": "code",
   "execution_count": 36,
   "id": "6db463ad",
   "metadata": {},
   "outputs": [
    {
     "data": {
      "text/plain": [
       "Other                     242741\n",
       "Abroad                     25468\n",
       "Contact with confirmed     10639\n",
       "Name: Known_contact, dtype: int64"
      ]
     },
     "execution_count": 36,
     "metadata": {},
     "output_type": "execute_result"
    }
   ],
   "source": [
    "covid_1['Known_contact'].unique()\n",
    "count = covid_1['Known_contact'].value_counts()\n",
    "count"
   ]
  },
  {
   "cell_type": "code",
   "execution_count": 37,
   "id": "4d6be7df",
   "metadata": {},
   "outputs": [
    {
     "data": {
      "text/plain": [
       "array(['negative', 'positive', nan], dtype=object)"
      ]
     },
     "execution_count": 37,
     "metadata": {},
     "output_type": "execute_result"
    }
   ],
   "source": [
    "covid_1['Corona'].unique()"
   ]
  },
  {
   "cell_type": "code",
   "execution_count": 38,
   "id": "15777107",
   "metadata": {},
   "outputs": [],
   "source": [
    "covid_2 = covid_1[['Cough_symptoms','Fever', 'Sore_throat', 'Shortness_of_breath', 'Headache','Sex', 'Known_contact', 'Corona']]"
   ]
  },
  {
   "cell_type": "code",
   "execution_count": 39,
   "id": "c5b3f3e0",
   "metadata": {},
   "outputs": [
    {
     "data": {
      "text/html": [
       "<div>\n",
       "<style scoped>\n",
       "    .dataframe tbody tr th:only-of-type {\n",
       "        vertical-align: middle;\n",
       "    }\n",
       "\n",
       "    .dataframe tbody tr th {\n",
       "        vertical-align: top;\n",
       "    }\n",
       "\n",
       "    .dataframe thead th {\n",
       "        text-align: right;\n",
       "    }\n",
       "</style>\n",
       "<table border=\"1\" class=\"dataframe\">\n",
       "  <thead>\n",
       "    <tr style=\"text-align: right;\">\n",
       "      <th></th>\n",
       "      <th>Cough_symptoms</th>\n",
       "      <th>Fever</th>\n",
       "      <th>Sore_throat</th>\n",
       "      <th>Shortness_of_breath</th>\n",
       "      <th>Headache</th>\n",
       "      <th>Sex</th>\n",
       "      <th>Known_contact</th>\n",
       "      <th>Corona</th>\n",
       "    </tr>\n",
       "  </thead>\n",
       "  <tbody>\n",
       "    <tr>\n",
       "      <th>0</th>\n",
       "      <td>True</td>\n",
       "      <td>False</td>\n",
       "      <td>True</td>\n",
       "      <td>False</td>\n",
       "      <td>False</td>\n",
       "      <td>NaN</td>\n",
       "      <td>Abroad</td>\n",
       "      <td>negative</td>\n",
       "    </tr>\n",
       "    <tr>\n",
       "      <th>1</th>\n",
       "      <td>False</td>\n",
       "      <td>True</td>\n",
       "      <td>False</td>\n",
       "      <td>False</td>\n",
       "      <td>False</td>\n",
       "      <td>NaN</td>\n",
       "      <td>Abroad</td>\n",
       "      <td>positive</td>\n",
       "    </tr>\n",
       "    <tr>\n",
       "      <th>2</th>\n",
       "      <td>False</td>\n",
       "      <td>True</td>\n",
       "      <td>False</td>\n",
       "      <td>False</td>\n",
       "      <td>False</td>\n",
       "      <td>NaN</td>\n",
       "      <td>Abroad</td>\n",
       "      <td>positive</td>\n",
       "    </tr>\n",
       "    <tr>\n",
       "      <th>3</th>\n",
       "      <td>True</td>\n",
       "      <td>False</td>\n",
       "      <td>False</td>\n",
       "      <td>False</td>\n",
       "      <td>False</td>\n",
       "      <td>NaN</td>\n",
       "      <td>Abroad</td>\n",
       "      <td>negative</td>\n",
       "    </tr>\n",
       "    <tr>\n",
       "      <th>4</th>\n",
       "      <td>True</td>\n",
       "      <td>False</td>\n",
       "      <td>False</td>\n",
       "      <td>False</td>\n",
       "      <td>False</td>\n",
       "      <td>NaN</td>\n",
       "      <td>Contact with confirmed</td>\n",
       "      <td>negative</td>\n",
       "    </tr>\n",
       "  </tbody>\n",
       "</table>\n",
       "</div>"
      ],
      "text/plain": [
       "  Cough_symptoms  Fever Sore_throat Shortness_of_breath Headache  Sex  \\\n",
       "0           True  False        True               False    False  NaN   \n",
       "1          False   True       False               False    False  NaN   \n",
       "2          False   True       False               False    False  NaN   \n",
       "3           True  False       False               False    False  NaN   \n",
       "4           True  False       False               False    False  NaN   \n",
       "\n",
       "            Known_contact    Corona  \n",
       "0                  Abroad  negative  \n",
       "1                  Abroad  positive  \n",
       "2                  Abroad  positive  \n",
       "3                  Abroad  negative  \n",
       "4  Contact with confirmed  negative  "
      ]
     },
     "execution_count": 39,
     "metadata": {},
     "output_type": "execute_result"
    }
   ],
   "source": [
    "covid_2.head()"
   ]
  },
  {
   "cell_type": "code",
   "execution_count": 40,
   "id": "15fefe2c",
   "metadata": {},
   "outputs": [
    {
     "data": {
      "text/plain": [
       "Cough_symptoms           252\n",
       "Fever                    252\n",
       "Sore_throat                1\n",
       "Shortness_of_breath        1\n",
       "Headache                   1\n",
       "Sex                    19563\n",
       "Known_contact              0\n",
       "Corona                  3892\n",
       "dtype: int64"
      ]
     },
     "execution_count": 40,
     "metadata": {},
     "output_type": "execute_result"
    }
   ],
   "source": [
    "covid_2.isnull().sum()"
   ]
  },
  {
   "cell_type": "markdown",
   "id": "f7c02114",
   "metadata": {},
   "source": [
    "## Univariate analysis"
   ]
  },
  {
   "cell_type": "code",
   "execution_count": 41,
   "id": "357264bf",
   "metadata": {},
   "outputs": [
    {
     "name": "stdout",
     "output_type": "stream",
     "text": [
      "negative    260227\n",
      "positive     14729\n",
      "Name: Corona, dtype: int64\n"
     ]
    },
    {
     "data": {
      "image/png": "[encoded data removed]",
      "text/plain": [
       "<Figure size 500x400 with 1 Axes>"
      ]
     },
     "metadata": {},
     "output_type": "display_data"
    }
   ],
   "source": [
    "plt.figure(figsize=(5,4))\n",
    "count = covid_2['Corona'].value_counts()\n",
    "print(count)\n",
    "cov_status = ['Negative', 'Positive']\n",
    "sns.barplot(cov_status, count)\n",
    "plt.title(\"Frequency of Corona People (target variable)\")\n",
    "plt.ylabel(\"Total Count\")\n",
    "plt.ylim(0,300000)\n",
    "plt.show()"
   ]
  },
  {
   "cell_type": "markdown",
   "id": "5272bf47",
   "metadata": {},
   "source": [
    "**Our target variable is also imbalanced because the ratio of both the categories is very high**"
   ]
  },
  {
   "cell_type": "code",
   "execution_count": 42,
   "id": "a57373aa",
   "metadata": {},
   "outputs": [
    {
     "name": "stdout",
     "output_type": "stream",
     "text": [
      "False    236368\n",
      "True      42228\n",
      "Name: Cough_symptoms, dtype: int64\n"
     ]
    },
    {
     "data": {
      "image/png": "[encoded data removed]",
      "text/plain": [
       "<Figure size 500x400 with 1 Axes>"
      ]
     },
     "metadata": {},
     "output_type": "display_data"
    }
   ],
   "source": [
    "plt.figure(figsize=(5,4))\n",
    "count = covid_2['Cough_symptoms'].value_counts()\n",
    "print(count)\n",
    "cov_status = ['FALSE', 'TRUE']\n",
    "sns.barplot(cov_status, count)\n",
    "plt.title(\"Frequency of Cough_symptoms\")\n",
    "plt.ylabel(\"Total Count\")\n",
    "plt.ylim(0,300000)\n",
    "plt.show()"
   ]
  },
  {
   "cell_type": "code",
   "execution_count": 43,
   "id": "e6f56c90",
   "metadata": {},
   "outputs": [
    {
     "name": "stdout",
     "output_type": "stream",
     "text": [
      "False    276921\n",
      "True       1926\n",
      "Name: Sore_throat, dtype: int64\n"
     ]
    },
    {
     "data": {
      "image/png": "[encoded data removed]",
      "text/plain": [
       "<Figure size 500x400 with 1 Axes>"
      ]
     },
     "metadata": {},
     "output_type": "display_data"
    }
   ],
   "source": [
    "plt.figure(figsize=(5,4))\n",
    "count = covid_2['Sore_throat'].value_counts()\n",
    "print(count)\n",
    "cov_status = ['FALSE', 'TRUE']\n",
    "sns.barplot(cov_status, count)\n",
    "plt.title(\"Frequency of Sore_throat\")\n",
    "plt.ylabel(\"Total Count\")\n",
    "plt.ylim(0,300000)\n",
    "plt.show()"
   ]
  },
  {
   "cell_type": "code",
   "execution_count": 44,
   "id": "ad8fd30d",
   "metadata": {},
   "outputs": [
    {
     "name": "stdout",
     "output_type": "stream",
     "text": [
      "False    277270\n",
      "True       1577\n",
      "Name: Shortness_of_breath, dtype: int64\n"
     ]
    },
    {
     "data": {
      "image/png": "[encoded data removed]",
      "text/plain": [
       "<Figure size 500x400 with 1 Axes>"
      ]
     },
     "metadata": {},
     "output_type": "display_data"
    }
   ],
   "source": [
    "plt.figure(figsize=(5,4))\n",
    "count = covid_2['Shortness_of_breath'].value_counts()\n",
    "print(count)\n",
    "cov_status = ['FALSE', 'TRUE']\n",
    "sns.barplot(cov_status, count)\n",
    "plt.title(\"Frequency of Shortness_of_breath\")\n",
    "plt.ylabel(\"Total Count\")\n",
    "plt.ylim(0,300000)\n",
    "plt.show()"
   ]
  },
  {
   "cell_type": "code",
   "execution_count": 45,
   "id": "c6dd583d",
   "metadata": {},
   "outputs": [
    {
     "name": "stdout",
     "output_type": "stream",
     "text": [
      "False    276433\n",
      "True       2414\n",
      "Name: Headache, dtype: int64\n"
     ]
    },
    {
     "data": {
      "image/png": "[encoded data removed]",
      "text/plain": [
       "<Figure size 500x400 with 1 Axes>"
      ]
     },
     "metadata": {},
     "output_type": "display_data"
    }
   ],
   "source": [
    "plt.figure(figsize=(5,4))\n",
    "count = covid_2['Headache'].value_counts()\n",
    "print(count)\n",
    "cov_status = ['FALSE', 'TRUE']\n",
    "sns.barplot(cov_status, count)\n",
    "plt.title(\"Frequency of Headache\")\n",
    "plt.ylabel(\"Total Count\")\n",
    "plt.ylim(0,300000)\n",
    "plt.show()"
   ]
  },
  {
   "cell_type": "code",
   "execution_count": 46,
   "id": "f406e737",
   "metadata": {},
   "outputs": [
    {
     "name": "stdout",
     "output_type": "stream",
     "text": [
      "Other                     242741\n",
      "Abroad                     25468\n",
      "Contact with confirmed     10639\n",
      "Name: Known_contact, dtype: int64\n"
     ]
    },
    {
     "data": {
      "image/png": "[encoded data removed]",
      "text/plain": [
       "<Figure size 500x400 with 1 Axes>"
      ]
     },
     "metadata": {},
     "output_type": "display_data"
    }
   ],
   "source": [
    "plt.figure(figsize=(5,4))\n",
    "count = covid_2['Known_contact'].value_counts()\n",
    "print(count)\n",
    "cov_status = ['Other', 'Abroad', 'Contact with confirmed']\n",
    "sns.barplot(cov_status, count)\n",
    "plt.title(\"Headache\")\n",
    "plt.ylabel(\"Total Count\")\n",
    "plt.ylim(0,300000)\n",
    "plt.show()"
   ]
  },
  {
   "cell_type": "code",
   "execution_count": 47,
   "id": "0a51db11",
   "metadata": {},
   "outputs": [
    {
     "name": "stdout",
     "output_type": "stream",
     "text": [
      "False    256844\n",
      "True      21752\n",
      "Name: Fever, dtype: int64\n"
     ]
    },
    {
     "data": {
      "image/png": "[encoded data removed]",
      "text/plain": [
       "<Figure size 500x400 with 1 Axes>"
      ]
     },
     "metadata": {},
     "output_type": "display_data"
    }
   ],
   "source": [
    "plt.figure(figsize=(5,4))\n",
    "count = covid_2['Fever'].value_counts()\n",
    "print(count)\n",
    "cov_status = ['FALSE', 'TRUE']\n",
    "sns.barplot(cov_status, count)\n",
    "plt.title(\"Distribution of Fever\")\n",
    "plt.ylim(0,300000)\n",
    "plt.show()"
   ]
  },
  {
   "cell_type": "code",
   "execution_count": 48,
   "id": "42a54058",
   "metadata": {},
   "outputs": [
    {
     "name": "stdout",
     "output_type": "stream",
     "text": [
      "female    130158\n",
      "male      129127\n",
      "Name: Sex, dtype: int64\n"
     ]
    },
    {
     "data": {
      "image/png": "[encoded data removed]",
      "text/plain": [
       "<Figure size 640x480 with 1 Axes>"
      ]
     },
     "metadata": {},
     "output_type": "display_data"
    }
   ],
   "source": [
    "count_gen = covid_2['Sex'].value_counts()\n",
    "print(count_gen)\n",
    "gen_status = ['FEMALE', 'MALE']\n",
    "sns.barplot(gen_status, count_gen)\n",
    "plt.title(\"Distribution of Gender\")\n",
    "plt.ylim(0,140000)\n",
    "plt.show()"
   ]
  },
  {
   "cell_type": "code",
   "execution_count": 152,
   "id": "0a5aabea",
   "metadata": {},
   "outputs": [
    {
     "data": {
      "image/png": "[encoded data removed]",
      "text/plain": [
       "<Figure size 640x480 with 1 Axes>"
      ]
     },
     "metadata": {},
     "output_type": "display_data"
    }
   ],
   "source": [
    "sns.set_palette(\"hls\", 1)\n",
    "sns.countplot(x='Corona', hue='Sex', data=covid_2)\n",
    "plt.show()"
   ]
  },
  {
   "cell_type": "markdown",
   "id": "c64e99c0",
   "metadata": {},
   "source": [
    "**Males are Slightly more suffered with Cororna as compared to female**"
   ]
  },
  {
   "cell_type": "code",
   "execution_count": 186,
   "id": "1d9660ba",
   "metadata": {},
   "outputs": [
    {
     "data": {
      "image/png": "[encoded data removed]",
      "text/plain": [
       "<Figure size 640x480 with 1 Axes>"
      ]
     },
     "metadata": {},
     "output_type": "display_data"
    }
   ],
   "source": [
    "sns.set_palette(\"hls\", 1)\n",
    "sns.countplot(x='Corona', hue='Known_contact', data=covid_2)\n",
    "plt.show()"
   ]
  },
  {
   "cell_type": "code",
   "execution_count": 190,
   "id": "80675404",
   "metadata": {},
   "outputs": [
    {
     "data": {
      "image/png": "[encoded data removed]",
      "text/plain": [
       "<Figure size 640x480 with 1 Axes>"
      ]
     },
     "metadata": {},
     "output_type": "display_data"
    }
   ],
   "source": [
    "sns.set_palette(\"hls\", 1)\n",
    "sns.countplot(x='Corona', hue='Headache', data=covid_2)\n",
    "plt.show()"
   ]
  },
  {
   "cell_type": "markdown",
   "id": "4cfc984b",
   "metadata": {},
   "source": [
    "**Those who have covid-19 they are suffering from Headache**"
   ]
  },
  {
   "cell_type": "code",
   "execution_count": 192,
   "id": "e3ab7d98",
   "metadata": {},
   "outputs": [
    {
     "data": {
      "image/png": "[encoded data removed]",
      "text/plain": [
       "<Figure size 640x480 with 1 Axes>"
      ]
     },
     "metadata": {},
     "output_type": "display_data"
    }
   ],
   "source": [
    "sns.set_palette(\"hls\", 1)\n",
    "sns.countplot(x='Corona', hue='Cough_symptoms', data=covid_2)\n",
    "plt.show()"
   ]
  },
  {
   "cell_type": "markdown",
   "id": "7250cc00",
   "metadata": {},
   "source": [
    "**Those who have covid-19, they are also suffering from Coughs**"
   ]
  },
  {
   "cell_type": "code",
   "execution_count": 191,
   "id": "ef382967",
   "metadata": {},
   "outputs": [
    {
     "data": {
      "text/plain": [
       "Text(0, 0.5, '')"
      ]
     },
     "execution_count": 191,
     "metadata": {},
     "output_type": "execute_result"
    },
    {
     "data": {
      "image/png": "[encoded data removed]",
      "text/plain": [
       "<Figure size 640x480 with 1 Axes>"
      ]
     },
     "metadata": {},
     "output_type": "display_data"
    }
   ],
   "source": [
    "ax = sns.histplot(\n",
    "    covid_2,\n",
    "    x='Corona',\n",
    "    # Use the value variable here to turn histogram counts into weighted\n",
    "    # values.\n",
    "    \n",
    "    hue='Sex',\n",
    "    multiple='stack',\n",
    "    palette=['#24b1d1', '#ae24d1'],\n",
    "    # Add white borders to the bars.\n",
    "    edgecolor='white',\n",
    "    # Shrink the bars a bit so they don't touch.\n",
    "    shrink=0.8\n",
    ")\n",
    "\n",
    "ax.set_title('Corona vs Gender')\n",
    "# Remove 'Count' ylabel.\n",
    "ax.set_ylabel(None)"
   ]
  },
  {
   "cell_type": "code",
   "execution_count": 49,
   "id": "be59f3a9",
   "metadata": {},
   "outputs": [],
   "source": [
    "#mode imputation\n",
    "covid_mode = covid_2.copy(deep=True) # creating a copy for further evaluation\n",
    "mode_imputer = SimpleImputer(strategy='most_frequent')\n",
    "covid_mode.iloc[:, :] = mode_imputer.fit_transform(covid_mode)"
   ]
  },
  {
   "cell_type": "code",
   "execution_count": 50,
   "id": "841563e7",
   "metadata": {},
   "outputs": [
    {
     "data": {
      "text/html": [
       "<div>\n",
       "<style scoped>\n",
       "    .dataframe tbody tr th:only-of-type {\n",
       "        vertical-align: middle;\n",
       "    }\n",
       "\n",
       "    .dataframe tbody tr th {\n",
       "        vertical-align: top;\n",
       "    }\n",
       "\n",
       "    .dataframe thead th {\n",
       "        text-align: right;\n",
       "    }\n",
       "</style>\n",
       "<table border=\"1\" class=\"dataframe\">\n",
       "  <thead>\n",
       "    <tr style=\"text-align: right;\">\n",
       "      <th></th>\n",
       "      <th>Cough_symptoms</th>\n",
       "      <th>Fever</th>\n",
       "      <th>Sore_throat</th>\n",
       "      <th>Shortness_of_breath</th>\n",
       "      <th>Headache</th>\n",
       "      <th>Sex</th>\n",
       "      <th>Known_contact</th>\n",
       "      <th>Corona</th>\n",
       "    </tr>\n",
       "  </thead>\n",
       "  <tbody>\n",
       "    <tr>\n",
       "      <th>0</th>\n",
       "      <td>True</td>\n",
       "      <td>False</td>\n",
       "      <td>True</td>\n",
       "      <td>False</td>\n",
       "      <td>False</td>\n",
       "      <td>female</td>\n",
       "      <td>Abroad</td>\n",
       "      <td>negative</td>\n",
       "    </tr>\n",
       "    <tr>\n",
       "      <th>1</th>\n",
       "      <td>False</td>\n",
       "      <td>True</td>\n",
       "      <td>False</td>\n",
       "      <td>False</td>\n",
       "      <td>False</td>\n",
       "      <td>female</td>\n",
       "      <td>Abroad</td>\n",
       "      <td>positive</td>\n",
       "    </tr>\n",
       "    <tr>\n",
       "      <th>2</th>\n",
       "      <td>False</td>\n",
       "      <td>True</td>\n",
       "      <td>False</td>\n",
       "      <td>False</td>\n",
       "      <td>False</td>\n",
       "      <td>female</td>\n",
       "      <td>Abroad</td>\n",
       "      <td>positive</td>\n",
       "    </tr>\n",
       "    <tr>\n",
       "      <th>3</th>\n",
       "      <td>True</td>\n",
       "      <td>False</td>\n",
       "      <td>False</td>\n",
       "      <td>False</td>\n",
       "      <td>False</td>\n",
       "      <td>female</td>\n",
       "      <td>Abroad</td>\n",
       "      <td>negative</td>\n",
       "    </tr>\n",
       "    <tr>\n",
       "      <th>4</th>\n",
       "      <td>True</td>\n",
       "      <td>False</td>\n",
       "      <td>False</td>\n",
       "      <td>False</td>\n",
       "      <td>False</td>\n",
       "      <td>female</td>\n",
       "      <td>Contact with confirmed</td>\n",
       "      <td>negative</td>\n",
       "    </tr>\n",
       "  </tbody>\n",
       "</table>\n",
       "</div>"
      ],
      "text/plain": [
       "  Cough_symptoms  Fever Sore_throat Shortness_of_breath Headache     Sex  \\\n",
       "0           True  False        True               False    False  female   \n",
       "1          False   True       False               False    False  female   \n",
       "2          False   True       False               False    False  female   \n",
       "3           True  False       False               False    False  female   \n",
       "4           True  False       False               False    False  female   \n",
       "\n",
       "            Known_contact    Corona  \n",
       "0                  Abroad  negative  \n",
       "1                  Abroad  positive  \n",
       "2                  Abroad  positive  \n",
       "3                  Abroad  negative  \n",
       "4  Contact with confirmed  negative  "
      ]
     },
     "execution_count": 50,
     "metadata": {},
     "output_type": "execute_result"
    }
   ],
   "source": [
    "covid_mode.head()"
   ]
  },
  {
   "cell_type": "code",
   "execution_count": 75,
   "id": "21d7befb",
   "metadata": {},
   "outputs": [
    {
     "data": {
      "text/plain": [
       "Cough_symptoms         0\n",
       "Fever                  0\n",
       "Sore_throat            0\n",
       "Shortness_of_breath    0\n",
       "Headache               0\n",
       "Sex                    0\n",
       "Known_contact          0\n",
       "Corona                 0\n",
       "dtype: int64"
      ]
     },
     "execution_count": 75,
     "metadata": {},
     "output_type": "execute_result"
    }
   ],
   "source": [
    "covid_mode.isnull().sum()"
   ]
  },
  {
   "cell_type": "markdown",
   "id": "3f2a2305",
   "metadata": {},
   "source": [
    "**Feature Selection**"
   ]
  },
  {
   "cell_type": "code",
   "execution_count": 52,
   "id": "72ab337e",
   "metadata": {},
   "outputs": [],
   "source": [
    "# Chi-square test\n",
    "import sklearn\n",
    "from sklearn.feature_selection import SelectKBest\n",
    "from sklearn.feature_selection import chi2\n"
   ]
  },
  {
   "cell_type": "code",
   "execution_count": 53,
   "id": "aa16652d",
   "metadata": {},
   "outputs": [],
   "source": [
    "covid_encod = covid_mode.copy()\n",
    "covid_encod[\"Sex\"]=pd.get_dummies(covid_encod[\"Sex\"],drop_first=True)\n",
    "covid_encod[\"Corona\"]=pd.get_dummies(covid_encod[\"Corona\"],drop_first=True)"
   ]
  },
  {
   "cell_type": "code",
   "execution_count": 54,
   "id": "ea64a2e4",
   "metadata": {},
   "outputs": [],
   "source": [
    "# label encoding using sklearn\n",
    "LE=LabelEncoder()\n",
    "LE.fit(covid_encod[\"Known_contact\"])\n",
    "covid_encod[\"Known_contact\"]=LE.transform(covid_encod[\"Known_contact\"])\n",
    "# Other - 2\n",
    "# Abroad - 0\n",
    "# Contact with confirmed - 1"
   ]
  },
  {
   "cell_type": "code",
   "execution_count": 55,
   "id": "07e72ab6",
   "metadata": {},
   "outputs": [],
   "source": [
    "X = covid_encod.iloc[:, :-1]\n",
    "Y = covid_encod.iloc[:, -1]"
   ]
  },
  {
   "cell_type": "code",
   "execution_count": 56,
   "id": "94f16e7e",
   "metadata": {},
   "outputs": [
    {
     "data": {
      "text/html": [
       "<div>\n",
       "<style scoped>\n",
       "    .dataframe tbody tr th:only-of-type {\n",
       "        vertical-align: middle;\n",
       "    }\n",
       "\n",
       "    .dataframe tbody tr th {\n",
       "        vertical-align: top;\n",
       "    }\n",
       "\n",
       "    .dataframe thead th {\n",
       "        text-align: right;\n",
       "    }\n",
       "</style>\n",
       "<table border=\"1\" class=\"dataframe\">\n",
       "  <thead>\n",
       "    <tr style=\"text-align: right;\">\n",
       "      <th></th>\n",
       "      <th>Cough_symptoms</th>\n",
       "      <th>Fever</th>\n",
       "      <th>Sore_throat</th>\n",
       "      <th>Shortness_of_breath</th>\n",
       "      <th>Headache</th>\n",
       "      <th>Sex</th>\n",
       "      <th>Known_contact</th>\n",
       "    </tr>\n",
       "  </thead>\n",
       "  <tbody>\n",
       "    <tr>\n",
       "      <th>0</th>\n",
       "      <td>True</td>\n",
       "      <td>False</td>\n",
       "      <td>True</td>\n",
       "      <td>False</td>\n",
       "      <td>False</td>\n",
       "      <td>0</td>\n",
       "      <td>0</td>\n",
       "    </tr>\n",
       "    <tr>\n",
       "      <th>1</th>\n",
       "      <td>False</td>\n",
       "      <td>True</td>\n",
       "      <td>False</td>\n",
       "      <td>False</td>\n",
       "      <td>False</td>\n",
       "      <td>0</td>\n",
       "      <td>0</td>\n",
       "    </tr>\n",
       "    <tr>\n",
       "      <th>2</th>\n",
       "      <td>False</td>\n",
       "      <td>True</td>\n",
       "      <td>False</td>\n",
       "      <td>False</td>\n",
       "      <td>False</td>\n",
       "      <td>0</td>\n",
       "      <td>0</td>\n",
       "    </tr>\n",
       "    <tr>\n",
       "      <th>3</th>\n",
       "      <td>True</td>\n",
       "      <td>False</td>\n",
       "      <td>False</td>\n",
       "      <td>False</td>\n",
       "      <td>False</td>\n",
       "      <td>0</td>\n",
       "      <td>0</td>\n",
       "    </tr>\n",
       "    <tr>\n",
       "      <th>4</th>\n",
       "      <td>True</td>\n",
       "      <td>False</td>\n",
       "      <td>False</td>\n",
       "      <td>False</td>\n",
       "      <td>False</td>\n",
       "      <td>0</td>\n",
       "      <td>1</td>\n",
       "    </tr>\n",
       "  </tbody>\n",
       "</table>\n",
       "</div>"
      ],
      "text/plain": [
       "  Cough_symptoms  Fever Sore_throat Shortness_of_breath Headache  Sex  \\\n",
       "0           True  False        True               False    False    0   \n",
       "1          False   True       False               False    False    0   \n",
       "2          False   True       False               False    False    0   \n",
       "3           True  False       False               False    False    0   \n",
       "4           True  False       False               False    False    0   \n",
       "\n",
       "   Known_contact  \n",
       "0              0  \n",
       "1              0  \n",
       "2              0  \n",
       "3              0  \n",
       "4              1  "
      ]
     },
     "execution_count": 56,
     "metadata": {},
     "output_type": "execute_result"
    }
   ],
   "source": [
    "X.head()"
   ]
  },
  {
   "cell_type": "code",
   "execution_count": 57,
   "id": "5764c168",
   "metadata": {},
   "outputs": [
    {
     "data": {
      "text/plain": [
       "(array([ 8970.87144981, 17870.96552629, 21051.77305705, 14802.73414955,\n",
       "        36775.28882368,    75.50044027,  2453.34929941]),\n",
       " array([0.00000000e+00, 0.00000000e+00, 0.00000000e+00, 0.00000000e+00,\n",
       "        0.00000000e+00, 3.65325418e-18, 0.00000000e+00]))"
      ]
     },
     "execution_count": 57,
     "metadata": {},
     "output_type": "execute_result"
    }
   ],
   "source": [
    "sklearn.feature_selection.chi2(X, Y)"
   ]
  },
  {
   "cell_type": "markdown",
   "id": "5f1541f5",
   "metadata": {},
   "source": [
    "**As the Chi-square value of Sex(Independent Variable) is very less we can drop that column**"
   ]
  },
  {
   "cell_type": "markdown",
   "id": "9ddb66f6",
   "metadata": {},
   "source": [
    "## Encoding"
   ]
  },
  {
   "cell_type": "code",
   "execution_count": 58,
   "id": "82681250",
   "metadata": {},
   "outputs": [],
   "source": [
    "# using dummy encoding\n",
    "covid_encode = covid_encod.copy()\n",
    "covid_encode[\"Cough_symptoms\"]=pd.get_dummies(covid_encode[\"Cough_symptoms\"],drop_first=True)\n",
    "covid_encode[\"Fever\"]=pd.get_dummies(covid_encode[\"Fever\"],drop_first=True)\n",
    "covid_encode[\"Sore_throat\"]=pd.get_dummies(covid_encode[\"Sore_throat\"],drop_first=True)\n",
    "covid_encode[\"Shortness_of_breath\"]=pd.get_dummies(covid_encode[\"Shortness_of_breath\"],drop_first=True)\n",
    "covid_encode[\"Headache\"]=pd.get_dummies(covid_encode[\"Headache\"],drop_first=True)\n"
   ]
  },
  {
   "cell_type": "code",
   "execution_count": null,
   "id": "0bc75596",
   "metadata": {},
   "outputs": [],
   "source": []
  },
  {
   "cell_type": "code",
   "execution_count": 59,
   "id": "491b9d10",
   "metadata": {},
   "outputs": [
    {
     "data": {
      "text/html": [
       "<div>\n",
       "<style scoped>\n",
       "    .dataframe tbody tr th:only-of-type {\n",
       "        vertical-align: middle;\n",
       "    }\n",
       "\n",
       "    .dataframe tbody tr th {\n",
       "        vertical-align: top;\n",
       "    }\n",
       "\n",
       "    .dataframe thead th {\n",
       "        text-align: right;\n",
       "    }\n",
       "</style>\n",
       "<table border=\"1\" class=\"dataframe\">\n",
       "  <thead>\n",
       "    <tr style=\"text-align: right;\">\n",
       "      <th></th>\n",
       "      <th>Cough_symptoms</th>\n",
       "      <th>Fever</th>\n",
       "      <th>Sore_throat</th>\n",
       "      <th>Shortness_of_breath</th>\n",
       "      <th>Headache</th>\n",
       "      <th>Sex</th>\n",
       "      <th>Known_contact</th>\n",
       "      <th>Corona</th>\n",
       "    </tr>\n",
       "  </thead>\n",
       "  <tbody>\n",
       "    <tr>\n",
       "      <th>0</th>\n",
       "      <td>1</td>\n",
       "      <td>0</td>\n",
       "      <td>1</td>\n",
       "      <td>0</td>\n",
       "      <td>0</td>\n",
       "      <td>0</td>\n",
       "      <td>0</td>\n",
       "      <td>0</td>\n",
       "    </tr>\n",
       "    <tr>\n",
       "      <th>1</th>\n",
       "      <td>0</td>\n",
       "      <td>1</td>\n",
       "      <td>0</td>\n",
       "      <td>0</td>\n",
       "      <td>0</td>\n",
       "      <td>0</td>\n",
       "      <td>0</td>\n",
       "      <td>1</td>\n",
       "    </tr>\n",
       "    <tr>\n",
       "      <th>2</th>\n",
       "      <td>0</td>\n",
       "      <td>1</td>\n",
       "      <td>0</td>\n",
       "      <td>0</td>\n",
       "      <td>0</td>\n",
       "      <td>0</td>\n",
       "      <td>0</td>\n",
       "      <td>1</td>\n",
       "    </tr>\n",
       "    <tr>\n",
       "      <th>3</th>\n",
       "      <td>1</td>\n",
       "      <td>0</td>\n",
       "      <td>0</td>\n",
       "      <td>0</td>\n",
       "      <td>0</td>\n",
       "      <td>0</td>\n",
       "      <td>0</td>\n",
       "      <td>0</td>\n",
       "    </tr>\n",
       "    <tr>\n",
       "      <th>4</th>\n",
       "      <td>1</td>\n",
       "      <td>0</td>\n",
       "      <td>0</td>\n",
       "      <td>0</td>\n",
       "      <td>0</td>\n",
       "      <td>0</td>\n",
       "      <td>1</td>\n",
       "      <td>0</td>\n",
       "    </tr>\n",
       "  </tbody>\n",
       "</table>\n",
       "</div>"
      ],
      "text/plain": [
       "   Cough_symptoms  Fever  Sore_throat  Shortness_of_breath  Headache  Sex  \\\n",
       "0               1      0            1                    0         0    0   \n",
       "1               0      1            0                    0         0    0   \n",
       "2               0      1            0                    0         0    0   \n",
       "3               1      0            0                    0         0    0   \n",
       "4               1      0            0                    0         0    0   \n",
       "\n",
       "   Known_contact  Corona  \n",
       "0              0       0  \n",
       "1              0       1  \n",
       "2              0       1  \n",
       "3              0       0  \n",
       "4              1       0  "
      ]
     },
     "execution_count": 59,
     "metadata": {},
     "output_type": "execute_result"
    }
   ],
   "source": [
    "covid_encode.head()"
   ]
  },
  {
   "cell_type": "markdown",
   "id": "25728015",
   "metadata": {},
   "source": [
    "### Dealing with Imbalanced data "
   ]
  },
  {
   "cell_type": "code",
   "execution_count": 60,
   "id": "28644f92",
   "metadata": {},
   "outputs": [],
   "source": [
    "positive = covid_encod[covid_encod['Corona']==1]\n",
    "negative = covid_encod[covid_encod['Corona']==0]"
   ]
  },
  {
   "cell_type": "code",
   "execution_count": 61,
   "id": "92e5ed2c",
   "metadata": {},
   "outputs": [
    {
     "name": "stdout",
     "output_type": "stream",
     "text": [
      "(14729, 8) (264119, 8)\n"
     ]
    }
   ],
   "source": [
    "print(positive.shape, negative.shape)"
   ]
  },
  {
   "cell_type": "code",
   "execution_count": 62,
   "id": "4de87909",
   "metadata": {},
   "outputs": [],
   "source": [
    "# oversampling\n",
    "# cs_1_over = positive.sample(count_cs_0, replace=True)\n",
    "# cs_test_over = pd.concat([negative, cs_1_over], axis=0)\n",
    "\n",
    "# print('Random over-sampling:')\n",
    "# print(cs_test_over['Corona'].value_counts())\n",
    "\n",
    "# cs_test_over['Corona'].value_counts().plot(figsize =(5,4),kind='bar', color = ['Green', 'Red'] ,title='Corona')\n"
   ]
  },
  {
   "cell_type": "markdown",
   "id": "9ce0868c",
   "metadata": {},
   "source": [
    "###  X and Y arrays"
   ]
  },
  {
   "cell_type": "code",
   "execution_count": 98,
   "id": "baffc7bd",
   "metadata": {},
   "outputs": [],
   "source": [
    "x = covid_encode[['Cough_symptoms','Fever', 'Sore_throat', 'Shortness_of_breath', 'Headache', 'Known_contact']]\n",
    "y = covid_encod.Corona"
   ]
  },
  {
   "cell_type": "markdown",
   "id": "c9507f9e",
   "metadata": {},
   "source": [
    "## Train Test Split"
   ]
  },
  {
   "cell_type": "code",
   "execution_count": 99,
   "id": "886a4f28",
   "metadata": {},
   "outputs": [],
   "source": [
    "# Used Sklearn train test split\n",
    "x_train, X_test, y_train, y_test = train_test_split(x, y, test_size=0.25, random_state=101)"
   ]
  },
  {
   "cell_type": "code",
   "execution_count": 100,
   "id": "d28f226b",
   "metadata": {},
   "outputs": [],
   "source": [
    "# Resampling the minority class. The strategy can be changed as required.\n",
    "# sm = SMOTE(sampling_strategy='minority', random_state=42)\n",
    "# # Fit the model to generate the data.\n",
    "# smote_sampled_X, smote_sampled_Y = sm.fit_resample(x.drop('Corona', axis=1), y.Corona)\n",
    "# smote_sampled = pd.concat([pd.DataFrame(smote_sampled_Y), pd.DataFrame(smote_sampled_X)], axis=1)\n",
    "\n",
    "sm = SMOTE(random_state = 2)\n",
    "x_train_res, y_train_res = sm.fit_resample(x_train, y_train.ravel())\n",
    "smote_sampled = pd.concat([pd.DataFrame(y_train_res), pd.DataFrame(x_train_res)], axis=1)"
   ]
  },
  {
   "cell_type": "code",
   "execution_count": 101,
   "id": "1df6edcc",
   "metadata": {},
   "outputs": [
    {
     "data": {
      "text/html": [
       "<div>\n",
       "<style scoped>\n",
       "    .dataframe tbody tr th:only-of-type {\n",
       "        vertical-align: middle;\n",
       "    }\n",
       "\n",
       "    .dataframe tbody tr th {\n",
       "        vertical-align: top;\n",
       "    }\n",
       "\n",
       "    .dataframe thead th {\n",
       "        text-align: right;\n",
       "    }\n",
       "</style>\n",
       "<table border=\"1\" class=\"dataframe\">\n",
       "  <thead>\n",
       "    <tr style=\"text-align: right;\">\n",
       "      <th></th>\n",
       "      <th>Cough_symptoms</th>\n",
       "      <th>Fever</th>\n",
       "      <th>Sore_throat</th>\n",
       "      <th>Shortness_of_breath</th>\n",
       "      <th>Headache</th>\n",
       "      <th>Known_contact</th>\n",
       "    </tr>\n",
       "  </thead>\n",
       "  <tbody>\n",
       "    <tr>\n",
       "      <th>273038</th>\n",
       "      <td>1</td>\n",
       "      <td>1</td>\n",
       "      <td>0</td>\n",
       "      <td>0</td>\n",
       "      <td>0</td>\n",
       "      <td>0</td>\n",
       "    </tr>\n",
       "    <tr>\n",
       "      <th>104064</th>\n",
       "      <td>1</td>\n",
       "      <td>0</td>\n",
       "      <td>0</td>\n",
       "      <td>0</td>\n",
       "      <td>0</td>\n",
       "      <td>0</td>\n",
       "    </tr>\n",
       "    <tr>\n",
       "      <th>43977</th>\n",
       "      <td>1</td>\n",
       "      <td>0</td>\n",
       "      <td>0</td>\n",
       "      <td>0</td>\n",
       "      <td>0</td>\n",
       "      <td>1</td>\n",
       "    </tr>\n",
       "    <tr>\n",
       "      <th>199582</th>\n",
       "      <td>0</td>\n",
       "      <td>0</td>\n",
       "      <td>0</td>\n",
       "      <td>0</td>\n",
       "      <td>0</td>\n",
       "      <td>2</td>\n",
       "    </tr>\n",
       "    <tr>\n",
       "      <th>112347</th>\n",
       "      <td>1</td>\n",
       "      <td>1</td>\n",
       "      <td>0</td>\n",
       "      <td>0</td>\n",
       "      <td>0</td>\n",
       "      <td>0</td>\n",
       "    </tr>\n",
       "    <tr>\n",
       "      <th>...</th>\n",
       "      <td>...</td>\n",
       "      <td>...</td>\n",
       "      <td>...</td>\n",
       "      <td>...</td>\n",
       "      <td>...</td>\n",
       "      <td>...</td>\n",
       "    </tr>\n",
       "    <tr>\n",
       "      <th>257442</th>\n",
       "      <td>0</td>\n",
       "      <td>0</td>\n",
       "      <td>0</td>\n",
       "      <td>0</td>\n",
       "      <td>0</td>\n",
       "      <td>2</td>\n",
       "    </tr>\n",
       "    <tr>\n",
       "      <th>36777</th>\n",
       "      <td>0</td>\n",
       "      <td>0</td>\n",
       "      <td>0</td>\n",
       "      <td>0</td>\n",
       "      <td>0</td>\n",
       "      <td>2</td>\n",
       "    </tr>\n",
       "    <tr>\n",
       "      <th>34336</th>\n",
       "      <td>0</td>\n",
       "      <td>0</td>\n",
       "      <td>0</td>\n",
       "      <td>0</td>\n",
       "      <td>0</td>\n",
       "      <td>2</td>\n",
       "    </tr>\n",
       "    <tr>\n",
       "      <th>85964</th>\n",
       "      <td>0</td>\n",
       "      <td>0</td>\n",
       "      <td>0</td>\n",
       "      <td>0</td>\n",
       "      <td>0</td>\n",
       "      <td>2</td>\n",
       "    </tr>\n",
       "    <tr>\n",
       "      <th>95402</th>\n",
       "      <td>0</td>\n",
       "      <td>0</td>\n",
       "      <td>0</td>\n",
       "      <td>0</td>\n",
       "      <td>0</td>\n",
       "      <td>2</td>\n",
       "    </tr>\n",
       "  </tbody>\n",
       "</table>\n",
       "<p>69712 rows × 6 columns</p>\n",
       "</div>"
      ],
      "text/plain": [
       "        Cough_symptoms  Fever  Sore_throat  Shortness_of_breath  Headache  \\\n",
       "273038               1      1            0                    0         0   \n",
       "104064               1      0            0                    0         0   \n",
       "43977                1      0            0                    0         0   \n",
       "199582               0      0            0                    0         0   \n",
       "112347               1      1            0                    0         0   \n",
       "...                ...    ...          ...                  ...       ...   \n",
       "257442               0      0            0                    0         0   \n",
       "36777                0      0            0                    0         0   \n",
       "34336                0      0            0                    0         0   \n",
       "85964                0      0            0                    0         0   \n",
       "95402                0      0            0                    0         0   \n",
       "\n",
       "        Known_contact  \n",
       "273038              0  \n",
       "104064              0  \n",
       "43977               1  \n",
       "199582              2  \n",
       "112347              0  \n",
       "...               ...  \n",
       "257442              2  \n",
       "36777               2  \n",
       "34336               2  \n",
       "85964               2  \n",
       "95402               2  \n",
       "\n",
       "[69712 rows x 6 columns]"
      ]
     },
     "execution_count": 101,
     "metadata": {},
     "output_type": "execute_result"
    }
   ],
   "source": [
    "X_test"
   ]
  },
  {
   "cell_type": "code",
   "execution_count": null,
   "id": "8ce2c227",
   "metadata": {},
   "outputs": [],
   "source": []
  },
  {
   "cell_type": "markdown",
   "id": "b7005aa1",
   "metadata": {},
   "source": [
    "## Logistic regression"
   ]
  },
  {
   "cell_type": "markdown",
   "id": "8fbbbfa2",
   "metadata": {},
   "source": [
    "**As the assumptions of logistic regression are not satisfied, So we cannot use logistics regression**"
   ]
  },
  {
   "cell_type": "markdown",
   "id": "4d995e84",
   "metadata": {},
   "source": [
    "## Support Vector Classifier"
   ]
  },
  {
   "cell_type": "code",
   "execution_count": 102,
   "id": "b7683e33",
   "metadata": {},
   "outputs": [],
   "source": [
    "#Importing SVM model\n",
    "from sklearn import svm\n",
    "from sklearn.metrics import classification_report, confusion_matrix\n",
    "\n",
    "#Creating a svm Classifier\n",
    "clf = svm.SVC(kernel='rbf') # Linear Kernel\n",
    "\n",
    "#Train the model using the training sets\n",
    "clf.fit(x_train_res, y_train_res)\n",
    "\n",
    "#Predict the response for test dataset\n",
    "y_pred = clf.predict(X_test)"
   ]
  },
  {
   "cell_type": "code",
   "execution_count": 103,
   "id": "361ca87e",
   "metadata": {},
   "outputs": [
    {
     "data": {
      "text/plain": [
       "array([[57745,  8242],\n",
       "       [  679,  3046]], dtype=int64)"
      ]
     },
     "execution_count": 103,
     "metadata": {},
     "output_type": "execute_result"
    }
   ],
   "source": [
    "cm= confusion_matrix(y_test, y_pred) \n",
    "cm"
   ]
  },
  {
   "cell_type": "code",
   "execution_count": 105,
   "id": "3f21073c",
   "metadata": {},
   "outputs": [
    {
     "name": "stdout",
     "output_type": "stream",
     "text": [
      "              precision    recall  f1-score   support\n",
      "\n",
      "           0       0.99      0.88      0.93     65987\n",
      "           1       0.27      0.82      0.41      3725\n",
      "\n",
      "    accuracy                           0.87     69712\n",
      "   macro avg       0.63      0.85      0.67     69712\n",
      "weighted avg       0.95      0.87      0.90     69712\n",
      "\n"
     ]
    }
   ],
   "source": [
    "# print prediction results\n",
    "from sklearn.metrics import classification_report, confusion_matrix\n",
    "print(classification_report(y_test, y_pred))"
   ]
  },
  {
   "cell_type": "code",
   "execution_count": 168,
   "id": "dd34a452",
   "metadata": {},
   "outputs": [
    {
     "data": {
      "text/plain": [
       "0.8464073653718451"
      ]
     },
     "execution_count": 168,
     "metadata": {},
     "output_type": "execute_result"
    }
   ],
   "source": [
    "from sklearn import metrics\n",
    "auc = metrics.roc_auc_score(y_test, y_pred)\n",
    "auc"
   ]
  },
  {
   "cell_type": "code",
   "execution_count": 169,
   "id": "ae72ef2b",
   "metadata": {},
   "outputs": [
    {
     "data": {
      "image/png": "[encoded data removed]",
      "text/plain": [
       "<Figure size 640x480 with 1 Axes>"
      ]
     },
     "metadata": {},
     "output_type": "display_data"
    }
   ],
   "source": [
    "metrics.plot_roc_curve(clf, X_test, y_pred)\n",
    "plt.show()"
   ]
  },
  {
   "cell_type": "code",
   "execution_count": 175,
   "id": "7e11e9ad",
   "metadata": {},
   "outputs": [
    {
     "data": {
      "image/png": "[encoded data removed]",
      "text/plain": [
       "<Figure size 1000x800 with 1 Axes>"
      ]
     },
     "metadata": {},
     "output_type": "display_data"
    }
   ],
   "source": [
    "false_positive_rate, true_positive_rate, thresolds = metrics.roc_curve(y_test, y_pred)\n",
    "\n",
    "plt.figure(figsize=(10, 8), dpi=100)\n",
    "plt.axis('scaled')\n",
    "plt.xlim([0, 1])\n",
    "plt.ylim([0, 1])\n",
    "plt.title(\"AUC & ROC Curve\")\n",
    "plt.plot(false_positive_rate, true_positive_rate, 'g')\n",
    "plt.fill_between(false_positive_rate, true_positive_rate, facecolor='lightgreen', alpha=0.7)\n",
    "plt.text(0.95, 0.05, 'AUC = %0.4f' % auc, ha='right', fontsize=12, weight='bold', color='blue')\n",
    "plt.xlabel(\"False Positive Rate\")\n",
    "plt.ylabel(\"True Positive Rate\")\n",
    "plt.show()"
   ]
  },
  {
   "cell_type": "markdown",
   "id": "d6b77cd5",
   "metadata": {},
   "source": [
    "## Decision Tree"
   ]
  },
  {
   "cell_type": "code",
   "execution_count": 106,
   "id": "24705083",
   "metadata": {},
   "outputs": [],
   "source": [
    "# Create Decision Tree classifer object\n",
    "classification = DecisionTreeClassifier()\n",
    "\n",
    "# Train Decision Tree Classifer\n",
    "classification = classification.fit(x_train,y_train)\n",
    "\n",
    "#Predict the response for test dataset\n",
    "Y_pred = classification.predict(X_test)"
   ]
  },
  {
   "cell_type": "code",
   "execution_count": 107,
   "id": "cbeb1bf9",
   "metadata": {},
   "outputs": [
    {
     "name": "stdout",
     "output_type": "stream",
     "text": [
      "Decision tree training set accuracy: 0.9673 \n",
      "Decision tree testing set accuracy: 0.9678 \n"
     ]
    }
   ],
   "source": [
    "print(f\"Decision tree training set accuracy: {format(classification.score(x_train, y_train), '.4f')} \")\n",
    "print(f\"Decision tree testing set accuracy: {format(classification.score(X_test, y_test), '.4f')} \")"
   ]
  },
  {
   "cell_type": "code",
   "execution_count": 108,
   "id": "d63e528f",
   "metadata": {},
   "outputs": [
    {
     "name": "stdout",
     "output_type": "stream",
     "text": [
      "              precision    recall  f1-score   support\n",
      "\n",
      "           0       0.97      0.99      0.98     65987\n",
      "           1       0.79      0.54      0.64      3725\n",
      "\n",
      "    accuracy                           0.97     69712\n",
      "   macro avg       0.88      0.77      0.81     69712\n",
      "weighted avg       0.96      0.97      0.96     69712\n",
      "\n"
     ]
    }
   ],
   "source": [
    "from sklearn.metrics import classification_report, confusion_matrix\n",
    "print(classification_report(y_test, Y_pred))    "
   ]
  },
  {
   "cell_type": "code",
   "execution_count": 170,
   "id": "3ce52bd4",
   "metadata": {},
   "outputs": [
    {
     "data": {
      "text/plain": [
       "0.7654027623704202"
      ]
     },
     "execution_count": 170,
     "metadata": {},
     "output_type": "execute_result"
    }
   ],
   "source": [
    "from sklearn import metrics\n",
    "auc = metrics.roc_auc_score(y_test, Y_pred)\n",
    "auc"
   ]
  },
  {
   "cell_type": "code",
   "execution_count": null,
   "id": "97e3cf5f",
   "metadata": {},
   "outputs": [],
   "source": []
  },
  {
   "cell_type": "markdown",
   "id": "08cc1eff",
   "metadata": {},
   "source": [
    "## Random Forest Classification Model"
   ]
  },
  {
   "cell_type": "code",
   "execution_count": 114,
   "id": "de9991ac",
   "metadata": {},
   "outputs": [
    {
     "data": {
      "text/plain": [
       "RandomForestClassifier(criterion='entropy')"
      ]
     },
     "execution_count": 114,
     "metadata": {},
     "output_type": "execute_result"
    }
   ],
   "source": [
    "from sklearn.ensemble import RandomForestClassifier  \n",
    "classifier= RandomForestClassifier(n_estimators= 100, criterion=\"entropy\")  \n",
    "classifier.fit(x_train, y_train) "
   ]
  },
  {
   "cell_type": "code",
   "execution_count": 115,
   "id": "dcbe37f5",
   "metadata": {},
   "outputs": [],
   "source": [
    "#Predicting the test set result  \n",
    "y_predict= classifier.predict(X_test)  "
   ]
  },
  {
   "cell_type": "code",
   "execution_count": 116,
   "id": "45c6c310",
   "metadata": {},
   "outputs": [],
   "source": [
    "#Creating the Confusion matrix  \n",
    "from sklearn.metrics import confusion_matrix  \n",
    "cm= confusion_matrix(y_test, y_predict) "
   ]
  },
  {
   "cell_type": "code",
   "execution_count": 117,
   "id": "c26354a8",
   "metadata": {},
   "outputs": [
    {
     "name": "stdout",
     "output_type": "stream",
     "text": [
      "[[65459   528]\n",
      " [ 1716  2009]]\n"
     ]
    }
   ],
   "source": [
    "#Output\n",
    "print(cm)"
   ]
  },
  {
   "cell_type": "code",
   "execution_count": 118,
   "id": "3bba1802",
   "metadata": {},
   "outputs": [
    {
     "name": "stdout",
     "output_type": "stream",
     "text": [
      "              precision    recall  f1-score   support\n",
      "\n",
      "           0       0.97      0.99      0.98     65987\n",
      "           1       0.79      0.54      0.64      3725\n",
      "\n",
      "    accuracy                           0.97     69712\n",
      "   macro avg       0.88      0.77      0.81     69712\n",
      "weighted avg       0.96      0.97      0.96     69712\n",
      "\n"
     ]
    }
   ],
   "source": [
    "print(classification_report(y_test, y_predict)) "
   ]
  },
  {
   "cell_type": "code",
   "execution_count": 176,
   "id": "ddfbbefa",
   "metadata": {},
   "outputs": [
    {
     "data": {
      "text/plain": [
       "0.7656636414961946"
      ]
     },
     "execution_count": 176,
     "metadata": {},
     "output_type": "execute_result"
    }
   ],
   "source": [
    "from sklearn import metrics\n",
    "auc = metrics.roc_auc_score(y_test, y_predict)\n",
    "auc"
   ]
  },
  {
   "cell_type": "code",
   "execution_count": 177,
   "id": "e8749ea6",
   "metadata": {},
   "outputs": [
    {
     "data": {
      "image/png": "[encoded data removed]",
      "text/plain": [
       "<Figure size 1000x800 with 1 Axes>"
      ]
     },
     "metadata": {},
     "output_type": "display_data"
    }
   ],
   "source": [
    "false_positive_rate, true_positive_rate, thresolds = metrics.roc_curve(y_test, y_predict)\n",
    "\n",
    "plt.figure(figsize=(10, 8), dpi=100)\n",
    "plt.axis('scaled')\n",
    "plt.xlim([0, 1])\n",
    "plt.ylim([0, 1])\n",
    "plt.title(\"AUC & ROC Curve\")\n",
    "plt.plot(false_positive_rate, true_positive_rate, 'g')\n",
    "plt.fill_between(false_positive_rate, true_positive_rate, facecolor='lightgreen', alpha=0.7)\n",
    "plt.text(0.95, 0.05, 'AUC = %0.4f' % auc, ha='right', fontsize=12, weight='bold', color='blue')\n",
    "plt.xlabel(\"False Positive Rate\")\n",
    "plt.ylabel(\"True Positive Rate\")\n",
    "plt.show()"
   ]
  },
  {
   "cell_type": "code",
   "execution_count": null,
   "id": "c56d4618",
   "metadata": {},
   "outputs": [],
   "source": []
  },
  {
   "cell_type": "code",
   "execution_count": 145,
   "id": "4ff04667",
   "metadata": {},
   "outputs": [
    {
     "data": {
      "text/html": [
       "<div>\n",
       "<style scoped>\n",
       "    .dataframe tbody tr th:only-of-type {\n",
       "        vertical-align: middle;\n",
       "    }\n",
       "\n",
       "    .dataframe tbody tr th {\n",
       "        vertical-align: top;\n",
       "    }\n",
       "\n",
       "    .dataframe thead th {\n",
       "        text-align: right;\n",
       "    }\n",
       "</style>\n",
       "<table border=\"1\" class=\"dataframe\">\n",
       "  <thead>\n",
       "    <tr style=\"text-align: right;\">\n",
       "      <th></th>\n",
       "      <th>Corona</th>\n",
       "      <th>Cough_symptoms</th>\n",
       "      <th>Fever</th>\n",
       "      <th>Headache</th>\n",
       "      <th>Ind_ID</th>\n",
       "      <th>Known_contact</th>\n",
       "      <th>Sex</th>\n",
       "      <th>Shortness_of_breath</th>\n",
       "      <th>Sore_throat</th>\n",
       "      <th>Test_date</th>\n",
       "    </tr>\n",
       "  </thead>\n",
       "  <tbody>\n",
       "    <tr>\n",
       "      <th>0</th>\n",
       "      <td>negative</td>\n",
       "      <td>True</td>\n",
       "      <td>False</td>\n",
       "      <td>False</td>\n",
       "      <td>1</td>\n",
       "      <td>Abroad</td>\n",
       "      <td>female</td>\n",
       "      <td>False</td>\n",
       "      <td>True</td>\n",
       "      <td>11-03-2020</td>\n",
       "    </tr>\n",
       "    <tr>\n",
       "      <th>1</th>\n",
       "      <td>positive</td>\n",
       "      <td>False</td>\n",
       "      <td>True</td>\n",
       "      <td>False</td>\n",
       "      <td>2</td>\n",
       "      <td>Abroad</td>\n",
       "      <td>female</td>\n",
       "      <td>False</td>\n",
       "      <td>False</td>\n",
       "      <td>11-03-2020</td>\n",
       "    </tr>\n",
       "    <tr>\n",
       "      <th>2</th>\n",
       "      <td>positive</td>\n",
       "      <td>False</td>\n",
       "      <td>True</td>\n",
       "      <td>False</td>\n",
       "      <td>3</td>\n",
       "      <td>Abroad</td>\n",
       "      <td>female</td>\n",
       "      <td>False</td>\n",
       "      <td>False</td>\n",
       "      <td>11-03-2020</td>\n",
       "    </tr>\n",
       "    <tr>\n",
       "      <th>3</th>\n",
       "      <td>negative</td>\n",
       "      <td>True</td>\n",
       "      <td>False</td>\n",
       "      <td>False</td>\n",
       "      <td>4</td>\n",
       "      <td>Abroad</td>\n",
       "      <td>female</td>\n",
       "      <td>False</td>\n",
       "      <td>False</td>\n",
       "      <td>11-03-2020</td>\n",
       "    </tr>\n",
       "    <tr>\n",
       "      <th>4</th>\n",
       "      <td>negative</td>\n",
       "      <td>True</td>\n",
       "      <td>False</td>\n",
       "      <td>False</td>\n",
       "      <td>5</td>\n",
       "      <td>Contact with confirmed</td>\n",
       "      <td>female</td>\n",
       "      <td>False</td>\n",
       "      <td>False</td>\n",
       "      <td>11-03-2020</td>\n",
       "    </tr>\n",
       "  </tbody>\n",
       "</table>\n",
       "</div>"
      ],
      "text/plain": [
       "     Corona Cough_symptoms  Fever Headache  Ind_ID           Known_contact  \\\n",
       "0  negative           True  False    False       1                  Abroad   \n",
       "1  positive          False   True    False       2                  Abroad   \n",
       "2  positive          False   True    False       3                  Abroad   \n",
       "3  negative           True  False    False       4                  Abroad   \n",
       "4  negative           True  False    False       5  Contact with confirmed   \n",
       "\n",
       "      Sex Shortness_of_breath Sore_throat   Test_date  \n",
       "0  female               False        True  11-03-2020  \n",
       "1  female               False       False  11-03-2020  \n",
       "2  female               False       False  11-03-2020  \n",
       "3  female               False       False  11-03-2020  \n",
       "4  female               False       False  11-03-2020  "
      ]
     },
     "execution_count": 145,
     "metadata": {},
     "output_type": "execute_result"
    }
   ],
   "source": [
    "covid12 = covid_1[['Ind_ID','Test_date']]\n",
    "covid12.head()\n",
    "covid13 = covid12.combine_first(covid_mode)\n",
    "covid13.head()"
   ]
  },
  {
   "cell_type": "code",
   "execution_count": null,
   "id": "eb453a83",
   "metadata": {},
   "outputs": [],
   "source": []
  },
  {
   "cell_type": "markdown",
   "id": "017ec0a2",
   "metadata": {},
   "source": [
    "## Loading in MySQL"
   ]
  },
  {
   "cell_type": "code",
   "execution_count": 151,
   "id": "34d7a752",
   "metadata": {},
   "outputs": [
    {
     "name": "stdout",
     "output_type": "stream",
     "text": [
      "\n",
      "********************How to save Pandas DataFrame as Excel file********************\n",
      "\n",
      "          Corona Cough_symptoms  Fever Headache  Ind_ID  \\\n",
      "0       negative           True  False    False       1   \n",
      "1       positive          False   True    False       2   \n",
      "2       positive          False   True    False       3   \n",
      "3       negative           True  False    False       4   \n",
      "4       negative           True  False    False       5   \n",
      "...          ...            ...    ...      ...     ...   \n",
      "278843  positive          False  False    False  278844   \n",
      "278844  negative          False  False    False  278845   \n",
      "278845  negative          False  False    False  278846   \n",
      "278846  negative          False  False    False  278847   \n",
      "278847  negative          False  False    False  278848   \n",
      "\n",
      "                 Known_contact     Sex Shortness_of_breath Sore_throat  \\\n",
      "0                       Abroad  female               False        True   \n",
      "1                       Abroad  female               False       False   \n",
      "2                       Abroad  female               False       False   \n",
      "3                       Abroad  female               False       False   \n",
      "4       Contact with confirmed  female               False       False   \n",
      "...                        ...     ...                 ...         ...   \n",
      "278843                   Other    male               False       False   \n",
      "278844                   Other  female               False       False   \n",
      "278845                   Other    male               False       False   \n",
      "278846                   Other    male               False       False   \n",
      "278847                   Other  female               False       False   \n",
      "\n",
      "         Test_date  \n",
      "0       11-03-2020  \n",
      "1       11-03-2020  \n",
      "2       11-03-2020  \n",
      "3       11-03-2020  \n",
      "4       11-03-2020  \n",
      "...            ...  \n",
      "278843  30-04-2020  \n",
      "278844  30-04-2020  \n",
      "278845  30-04-2020  \n",
      "278846  30-04-2020  \n",
      "278847  30-04-2020  \n",
      "\n",
      "[278848 rows x 10 columns]\n"
     ]
    }
   ],
   "source": [
    "def Snippet_105():\n",
    "    print()\n",
    "    print(format('How to save Pandas DataFrame as Excel file','*^82'))\n",
    "    \n",
    "    import warnings\n",
    "    warnings.filterwarnings(\"ignore\")\n",
    "    \n",
    "    covid_mysql = pd.DataFrame(covid13)\n",
    "    print(); print(covid_mysql)\n",
    "    \n",
    "    covid_mysql.to_csv('covid13.excel',header=False, escapechar=' ', index = False)\n",
    "    \n",
    "    \n",
    "Snippet_105()"
   ]
  },
  {
   "cell_type": "markdown",
   "id": "af30bf2d",
   "metadata": {},
   "source": [
    "### Conclusion"
   ]
  },
  {
   "cell_type": "markdown",
   "id": "fbf9418e",
   "metadata": {},
   "source": [
    "**Result after EDA**\n",
    "- **Males were suffered Slightly more with Cororna as compared to female**\n",
    "- **Sore_throat and Shortness_of_breath were putting more impact on the person who have covid-19**\n",
    "- **Those who have covid-19 they are suffering from Headache**\n",
    "-**Those who have covid-19, they are also suffering from Coughs**"
   ]
  },
  {
   "cell_type": "markdown",
   "id": "6731dbf2",
   "metadata": {},
   "source": [
    "**For predicting Covid-19 I have built 3 classification models using covid-19 dataset Those are Support vector classifier, Decision Tree and Random forest. After comparing precision, recall and f1-score of all the models, I found Random forest is working better than all the model.**"
   ]
  },
  {
   "cell_type": "markdown",
   "id": "a3cf7e2b",
   "metadata": {},
   "source": [
    "## ----------------------------------------------------THANK YOU------------------------------------------------------------"
   ]
  },
  {
   "cell_type": "code",
   "execution_count": null,
   "id": "5b5b4938",
   "metadata": {},
   "outputs": [],
   "source": []
  }
 ],
 "metadata": {
  "kernelspec": {
   "display_name": "Python 3 (ipykernel)",
   "language": "python",
   "name": "python3"
  },
  "language_info": {
   "codemirror_mode": {
    "name": "ipython",
    "version": 3
   },
   "file_extension": ".py",
   "mimetype": "text/x-python",
   "name": "python",
   "nbconvert_exporter": "python",
   "pygments_lexer": "ipython3",
   "version": "3.9.13"
  }
 },
 "nbformat": 4,
 "nbformat_minor": 5
}
